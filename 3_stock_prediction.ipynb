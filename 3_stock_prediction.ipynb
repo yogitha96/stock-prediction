{
  "nbformat": 4,
  "nbformat_minor": 0,
  "metadata": {
    "colab": {
      "name": "3.stock_prediction.ipynb",
      "provenance": [],
      "collapsed_sections": [],
      "include_colab_link": true
    },
    "kernelspec": {
      "name": "python3",
      "display_name": "Python 3"
    },
    "accelerator": "GPU"
  },
  "cells": [
    {
      "cell_type": "markdown",
      "metadata": {
        "id": "view-in-github",
        "colab_type": "text"
      },
      "source": [
        "<a href=\"https://colab.research.google.com/github/yogitha96/stock-prediction/blob/main/3_stock_prediction.ipynb\" target=\"_parent\"><img src=\"https://colab.research.google.com/assets/colab-badge.svg\" alt=\"Open In Colab\"/></a>"
      ]
    },
    {
      "cell_type": "code",
      "metadata": {
        "id": "sHEdIovSDZ0l"
      },
      "source": [
        ""
      ],
      "execution_count": 13,
      "outputs": []
    },
    {
      "cell_type": "code",
      "metadata": {
        "colab": {
          "base_uri": "https://localhost:8080/"
        },
        "id": "7--lyOV6F3oJ",
        "outputId": "c5d5af17-39d9-43b6-8409-8bd59a2eb2a7"
      },
      "source": [
        "\n",
        "!pip install tensorflow "
      ],
      "execution_count": 15,
      "outputs": [
        {
          "output_type": "stream",
          "text": [
            "Requirement already satisfied: tensorflow in /usr/local/lib/python3.7/dist-packages (2.4.1)\n",
            "Requirement already satisfied: typing-extensions~=3.7.4 in /usr/local/lib/python3.7/dist-packages (from tensorflow) (3.7.4.3)\n",
            "Requirement already satisfied: wheel~=0.35 in /usr/local/lib/python3.7/dist-packages (from tensorflow) (0.36.2)\n",
            "Requirement already satisfied: six~=1.15.0 in /usr/local/lib/python3.7/dist-packages (from tensorflow) (1.15.0)\n",
            "Requirement already satisfied: grpcio~=1.32.0 in /usr/local/lib/python3.7/dist-packages (from tensorflow) (1.32.0)\n",
            "Requirement already satisfied: gast==0.3.3 in /usr/local/lib/python3.7/dist-packages (from tensorflow) (0.3.3)\n",
            "Requirement already satisfied: protobuf>=3.9.2 in /usr/local/lib/python3.7/dist-packages (from tensorflow) (3.12.4)\n",
            "Requirement already satisfied: google-pasta~=0.2 in /usr/local/lib/python3.7/dist-packages (from tensorflow) (0.2.0)\n",
            "Requirement already satisfied: absl-py~=0.10 in /usr/local/lib/python3.7/dist-packages (from tensorflow) (0.12.0)\n",
            "Requirement already satisfied: opt-einsum~=3.3.0 in /usr/local/lib/python3.7/dist-packages (from tensorflow) (3.3.0)\n",
            "Requirement already satisfied: termcolor~=1.1.0 in /usr/local/lib/python3.7/dist-packages (from tensorflow) (1.1.0)\n",
            "Requirement already satisfied: wrapt~=1.12.1 in /usr/local/lib/python3.7/dist-packages (from tensorflow) (1.12.1)\n",
            "Requirement already satisfied: tensorboard~=2.4 in /usr/local/lib/python3.7/dist-packages (from tensorflow) (2.4.1)\n",
            "Requirement already satisfied: astunparse~=1.6.3 in /usr/local/lib/python3.7/dist-packages (from tensorflow) (1.6.3)\n",
            "Requirement already satisfied: h5py~=2.10.0 in /usr/local/lib/python3.7/dist-packages (from tensorflow) (2.10.0)\n",
            "Requirement already satisfied: numpy~=1.19.2 in /usr/local/lib/python3.7/dist-packages (from tensorflow) (1.19.5)\n",
            "Requirement already satisfied: tensorflow-estimator<2.5.0,>=2.4.0 in /usr/local/lib/python3.7/dist-packages (from tensorflow) (2.4.0)\n",
            "Requirement already satisfied: flatbuffers~=1.12.0 in /usr/local/lib/python3.7/dist-packages (from tensorflow) (1.12)\n",
            "Requirement already satisfied: keras-preprocessing~=1.1.2 in /usr/local/lib/python3.7/dist-packages (from tensorflow) (1.1.2)\n",
            "Requirement already satisfied: setuptools in /usr/local/lib/python3.7/dist-packages (from protobuf>=3.9.2->tensorflow) (56.0.0)\n",
            "Requirement already satisfied: markdown>=2.6.8 in /usr/local/lib/python3.7/dist-packages (from tensorboard~=2.4->tensorflow) (3.3.4)\n",
            "Requirement already satisfied: google-auth-oauthlib<0.5,>=0.4.1 in /usr/local/lib/python3.7/dist-packages (from tensorboard~=2.4->tensorflow) (0.4.4)\n",
            "Requirement already satisfied: werkzeug>=0.11.15 in /usr/local/lib/python3.7/dist-packages (from tensorboard~=2.4->tensorflow) (1.0.1)\n",
            "Requirement already satisfied: google-auth<2,>=1.6.3 in /usr/local/lib/python3.7/dist-packages (from tensorboard~=2.4->tensorflow) (1.28.1)\n",
            "Requirement already satisfied: requests<3,>=2.21.0 in /usr/local/lib/python3.7/dist-packages (from tensorboard~=2.4->tensorflow) (2.23.0)\n",
            "Requirement already satisfied: tensorboard-plugin-wit>=1.6.0 in /usr/local/lib/python3.7/dist-packages (from tensorboard~=2.4->tensorflow) (1.8.0)\n",
            "Requirement already satisfied: importlib-metadata; python_version < \"3.8\" in /usr/local/lib/python3.7/dist-packages (from markdown>=2.6.8->tensorboard~=2.4->tensorflow) (3.10.1)\n",
            "Requirement already satisfied: requests-oauthlib>=0.7.0 in /usr/local/lib/python3.7/dist-packages (from google-auth-oauthlib<0.5,>=0.4.1->tensorboard~=2.4->tensorflow) (1.3.0)\n",
            "Requirement already satisfied: rsa<5,>=3.1.4; python_version >= \"3.6\" in /usr/local/lib/python3.7/dist-packages (from google-auth<2,>=1.6.3->tensorboard~=2.4->tensorflow) (4.7.2)\n",
            "Requirement already satisfied: cachetools<5.0,>=2.0.0 in /usr/local/lib/python3.7/dist-packages (from google-auth<2,>=1.6.3->tensorboard~=2.4->tensorflow) (4.2.1)\n",
            "Requirement already satisfied: pyasn1-modules>=0.2.1 in /usr/local/lib/python3.7/dist-packages (from google-auth<2,>=1.6.3->tensorboard~=2.4->tensorflow) (0.2.8)\n",
            "Requirement already satisfied: chardet<4,>=3.0.2 in /usr/local/lib/python3.7/dist-packages (from requests<3,>=2.21.0->tensorboard~=2.4->tensorflow) (3.0.4)\n",
            "Requirement already satisfied: idna<3,>=2.5 in /usr/local/lib/python3.7/dist-packages (from requests<3,>=2.21.0->tensorboard~=2.4->tensorflow) (2.10)\n",
            "Requirement already satisfied: certifi>=2017.4.17 in /usr/local/lib/python3.7/dist-packages (from requests<3,>=2.21.0->tensorboard~=2.4->tensorflow) (2020.12.5)\n",
            "Requirement already satisfied: urllib3!=1.25.0,!=1.25.1,<1.26,>=1.21.1 in /usr/local/lib/python3.7/dist-packages (from requests<3,>=2.21.0->tensorboard~=2.4->tensorflow) (1.24.3)\n",
            "Requirement already satisfied: zipp>=0.5 in /usr/local/lib/python3.7/dist-packages (from importlib-metadata; python_version < \"3.8\"->markdown>=2.6.8->tensorboard~=2.4->tensorflow) (3.4.1)\n",
            "Requirement already satisfied: oauthlib>=3.0.0 in /usr/local/lib/python3.7/dist-packages (from requests-oauthlib>=0.7.0->google-auth-oauthlib<0.5,>=0.4.1->tensorboard~=2.4->tensorflow) (3.1.0)\n",
            "Requirement already satisfied: pyasn1>=0.1.3 in /usr/local/lib/python3.7/dist-packages (from rsa<5,>=3.1.4; python_version >= \"3.6\"->google-auth<2,>=1.6.3->tensorboard~=2.4->tensorflow) (0.4.8)\n"
          ],
          "name": "stdout"
        }
      ]
    },
    {
      "cell_type": "code",
      "metadata": {
        "id": "VBXq-Wb_K1XR",
        "colab": {
          "base_uri": "https://localhost:8080/"
        },
        "outputId": "9ac0b14d-c7d5-4a5a-d7cf-735c2d6a8ea2"
      },
      "source": [
        "import os\n",
        "import numpy as np\n",
        "import tensorflow as tf\n",
        "from tensorflow import keras\n",
        "import pandas as pd\n",
        "import seaborn as sns\n",
        "from pylab import rcParams\n",
        "import matplotlib.pyplot as plt\n",
        "from matplotlib import rc\n",
        "from sklearn.preprocessing import MinMaxScaler\n",
        "from tensorflow.keras.layers import Bidirectional, Dropout, Activation, Dense, LSTM\n",
        "from tensorflow.python.keras.layers import CuDNNLSTM\n",
        "from tensorflow.keras.models import Sequential\n",
        "\n",
        "%matplotlib inline\n",
        "\n",
        "sns.set(style='whitegrid', palette='muted', font_scale=1.5)\n",
        "\n",
        "rcParams['figure.figsize'] = 14, 8\n",
        "\n",
        "RANDOM_SEED = 42\n",
        "\n",
        "np.random.seed(RANDOM_SEED)"
      ],
      "execution_count": 1,
      "outputs": [
        {
          "output_type": "stream",
          "text": [
            "/usr/local/lib/python3.7/dist-packages/tensorboard/compat/tensorflow_stub/dtypes.py:541: FutureWarning: Passing (type, 1) or '1type' as a synonym of type is deprecated; in a future version of numpy, it will be understood as (type, (1,)) / '(1,)type'.\n",
            "  _np_qint8 = np.dtype([(\"qint8\", np.int8, 1)])\n",
            "/usr/local/lib/python3.7/dist-packages/tensorboard/compat/tensorflow_stub/dtypes.py:542: FutureWarning: Passing (type, 1) or '1type' as a synonym of type is deprecated; in a future version of numpy, it will be understood as (type, (1,)) / '(1,)type'.\n",
            "  _np_quint8 = np.dtype([(\"quint8\", np.uint8, 1)])\n",
            "/usr/local/lib/python3.7/dist-packages/tensorboard/compat/tensorflow_stub/dtypes.py:543: FutureWarning: Passing (type, 1) or '1type' as a synonym of type is deprecated; in a future version of numpy, it will be understood as (type, (1,)) / '(1,)type'.\n",
            "  _np_qint16 = np.dtype([(\"qint16\", np.int16, 1)])\n",
            "/usr/local/lib/python3.7/dist-packages/tensorboard/compat/tensorflow_stub/dtypes.py:544: FutureWarning: Passing (type, 1) or '1type' as a synonym of type is deprecated; in a future version of numpy, it will be understood as (type, (1,)) / '(1,)type'.\n",
            "  _np_quint16 = np.dtype([(\"quint16\", np.uint16, 1)])\n",
            "/usr/local/lib/python3.7/dist-packages/tensorboard/compat/tensorflow_stub/dtypes.py:545: FutureWarning: Passing (type, 1) or '1type' as a synonym of type is deprecated; in a future version of numpy, it will be understood as (type, (1,)) / '(1,)type'.\n",
            "  _np_qint32 = np.dtype([(\"qint32\", np.int32, 1)])\n",
            "/usr/local/lib/python3.7/dist-packages/tensorboard/compat/tensorflow_stub/dtypes.py:550: FutureWarning: Passing (type, 1) or '1type' as a synonym of type is deprecated; in a future version of numpy, it will be understood as (type, (1,)) / '(1,)type'.\n",
            "  np_resource = np.dtype([(\"resource\", np.ubyte, 1)])\n"
          ],
          "name": "stderr"
        }
      ]
    },
    {
      "cell_type": "code",
      "metadata": {
        "id": "y5o6dHO2LLz-"
      },
      "source": [
        "# Data comes from:\n",
        "# https://finance.yahoo.com/quote/BTC-USD/history?period1=1279314000&period2=1556053200&interval=1d&filter=history&frequency=1d\n",
        "\n",
        "csv_path = \"https://raw.githubusercontent.com/curiousily/Deep-Learning-For-Hackers/master/data/3.stock-prediction/BTC-USD.csv\"\n",
        "# csv_path = \"https://raw.githubusercontent.com/curiousily/Deep-Learning-For-Hackers/master/data/3.stock-prediction/AAPL.csv\""
      ],
      "execution_count": 2,
      "outputs": []
    },
    {
      "cell_type": "code",
      "metadata": {
        "id": "BnuBLC5DLjXH"
      },
      "source": [
        "df = pd.read_csv(csv_path, parse_dates=['Date'])"
      ],
      "execution_count": 3,
      "outputs": []
    },
    {
      "cell_type": "code",
      "metadata": {
        "id": "kqMRRLeTLk_P"
      },
      "source": [
        "df = df.sort_values('Date')"
      ],
      "execution_count": 4,
      "outputs": []
    },
    {
      "cell_type": "code",
      "metadata": {
        "id": "mU4B3eNtLpgH",
        "colab": {
          "base_uri": "https://localhost:8080/",
          "height": 195
        },
        "outputId": "205f37f9-0e43-44b2-e629-4d4d31a3e817"
      },
      "source": [
        "df.head()"
      ],
      "execution_count": 5,
      "outputs": [
        {
          "output_type": "execute_result",
          "data": {
            "text/html": [
              "<div>\n",
              "<style scoped>\n",
              "    .dataframe tbody tr th:only-of-type {\n",
              "        vertical-align: middle;\n",
              "    }\n",
              "\n",
              "    .dataframe tbody tr th {\n",
              "        vertical-align: top;\n",
              "    }\n",
              "\n",
              "    .dataframe thead th {\n",
              "        text-align: right;\n",
              "    }\n",
              "</style>\n",
              "<table border=\"1\" class=\"dataframe\">\n",
              "  <thead>\n",
              "    <tr style=\"text-align: right;\">\n",
              "      <th></th>\n",
              "      <th>Date</th>\n",
              "      <th>Open</th>\n",
              "      <th>High</th>\n",
              "      <th>Low</th>\n",
              "      <th>Close</th>\n",
              "      <th>Adj Close</th>\n",
              "      <th>Volume</th>\n",
              "    </tr>\n",
              "  </thead>\n",
              "  <tbody>\n",
              "    <tr>\n",
              "      <th>0</th>\n",
              "      <td>2010-07-16</td>\n",
              "      <td>0.04951</td>\n",
              "      <td>0.04951</td>\n",
              "      <td>0.04951</td>\n",
              "      <td>0.04951</td>\n",
              "      <td>0.04951</td>\n",
              "      <td>0</td>\n",
              "    </tr>\n",
              "    <tr>\n",
              "      <th>1</th>\n",
              "      <td>2010-07-17</td>\n",
              "      <td>0.04951</td>\n",
              "      <td>0.08585</td>\n",
              "      <td>0.05941</td>\n",
              "      <td>0.08584</td>\n",
              "      <td>0.08584</td>\n",
              "      <td>5</td>\n",
              "    </tr>\n",
              "    <tr>\n",
              "      <th>2</th>\n",
              "      <td>2010-07-18</td>\n",
              "      <td>0.08584</td>\n",
              "      <td>0.09307</td>\n",
              "      <td>0.07723</td>\n",
              "      <td>0.08080</td>\n",
              "      <td>0.08080</td>\n",
              "      <td>49</td>\n",
              "    </tr>\n",
              "    <tr>\n",
              "      <th>3</th>\n",
              "      <td>2010-07-19</td>\n",
              "      <td>0.08080</td>\n",
              "      <td>0.08181</td>\n",
              "      <td>0.07426</td>\n",
              "      <td>0.07474</td>\n",
              "      <td>0.07474</td>\n",
              "      <td>20</td>\n",
              "    </tr>\n",
              "    <tr>\n",
              "      <th>4</th>\n",
              "      <td>2010-07-20</td>\n",
              "      <td>0.07474</td>\n",
              "      <td>0.07921</td>\n",
              "      <td>0.06634</td>\n",
              "      <td>0.07921</td>\n",
              "      <td>0.07921</td>\n",
              "      <td>42</td>\n",
              "    </tr>\n",
              "  </tbody>\n",
              "</table>\n",
              "</div>"
            ],
            "text/plain": [
              "        Date     Open     High      Low    Close  Adj Close  Volume\n",
              "0 2010-07-16  0.04951  0.04951  0.04951  0.04951    0.04951       0\n",
              "1 2010-07-17  0.04951  0.08585  0.05941  0.08584    0.08584       5\n",
              "2 2010-07-18  0.08584  0.09307  0.07723  0.08080    0.08080      49\n",
              "3 2010-07-19  0.08080  0.08181  0.07426  0.07474    0.07474      20\n",
              "4 2010-07-20  0.07474  0.07921  0.06634  0.07921    0.07921      42"
            ]
          },
          "metadata": {
            "tags": []
          },
          "execution_count": 5
        }
      ]
    },
    {
      "cell_type": "code",
      "metadata": {
        "id": "t-xB1zK0C0mG",
        "colab": {
          "base_uri": "https://localhost:8080/"
        },
        "outputId": "23d8bcee-ea16-4b79-b95c-eac5a20f0296"
      },
      "source": [
        "df.shape"
      ],
      "execution_count": 6,
      "outputs": [
        {
          "output_type": "execute_result",
          "data": {
            "text/plain": [
              "(3201, 7)"
            ]
          },
          "metadata": {
            "tags": []
          },
          "execution_count": 6
        }
      ]
    },
    {
      "cell_type": "code",
      "metadata": {
        "id": "4XyoR5lG3Jxv",
        "colab": {
          "base_uri": "https://localhost:8080/",
          "height": 316
        },
        "outputId": "65a6b5c2-0582-4c01-824a-d9604a949190"
      },
      "source": [
        "ax = df.plot(x='Date', y='Close');\n",
        "ax.set_xlabel(\"Date\")\n",
        "ax.set_ylabel(\"Close Price (USD)\")"
      ],
      "execution_count": 7,
      "outputs": [
        {
          "output_type": "execute_result",
          "data": {
            "text/plain": [
              "Text(0, 0.5, 'Close Price (USD)')"
            ]
          },
          "metadata": {
            "tags": []
          },
          "execution_count": 7
        },
        {
          "output_type": "display_data",
          "data": {
            "image/png": "[encoded data removed]",
            "text/plain": [
              "<Figure size 432x288 with 1 Axes>"
            ]
          },
          "metadata": {
            "tags": [],
            "needs_background": "light"
          }
        }
      ]
    },
    {
      "cell_type": "markdown",
      "metadata": {
        "id": "7twAH-I-qO9Z"
      },
      "source": [
        "# Normalization"
      ]
    },
    {
      "cell_type": "code",
      "metadata": {
        "id": "Ux2FtgMAqObq"
      },
      "source": [
        "scaler = MinMaxScaler()\n",
        "\n",
        "close_price = df.Close.values.reshape(-1, 1)\n",
        "\n",
        "scaled_close = scaler.fit_transform(close_price)"
      ],
      "execution_count": 8,
      "outputs": []
    },
    {
      "cell_type": "code",
      "metadata": {
        "id": "UprkaMWFvQOG",
        "colab": {
          "base_uri": "https://localhost:8080/"
        },
        "outputId": "88273bf6-be1d-4c23-8e28-a21cfe7859af"
      },
      "source": [
        "scaled_close.shape"
      ],
      "execution_count": 9,
      "outputs": [
        {
          "output_type": "execute_result",
          "data": {
            "text/plain": [
              "(3201, 1)"
            ]
          },
          "metadata": {
            "tags": []
          },
          "execution_count": 9
        }
      ]
    },
    {
      "cell_type": "code",
      "metadata": {
        "id": "qOg2HX9AuTk-",
        "colab": {
          "base_uri": "https://localhost:8080/"
        },
        "outputId": "0f2a2d6a-489f-4774-ff67-a1f937ecc51f"
      },
      "source": [
        "np.isnan(scaled_close).any()"
      ],
      "execution_count": 10,
      "outputs": [
        {
          "output_type": "execute_result",
          "data": {
            "text/plain": [
              "False"
            ]
          },
          "metadata": {
            "tags": []
          },
          "execution_count": 10
        }
      ]
    },
    {
      "cell_type": "code",
      "metadata": {
        "id": "evHUrll9ukht"
      },
      "source": [
        "scaled_close = scaled_close[~np.isnan(scaled_close)]"
      ],
      "execution_count": 11,
      "outputs": []
    },
    {
      "cell_type": "code",
      "metadata": {
        "id": "gCyOvwnqvTSw"
      },
      "source": [
        "scaled_close = scaled_close.reshape(-1, 1)"
      ],
      "execution_count": 12,
      "outputs": []
    },
    {
      "cell_type": "code",
      "metadata": {
        "id": "eSJxuT3-u6K2",
        "colab": {
          "base_uri": "https://localhost:8080/"
        },
        "outputId": "f4f71796-1e5f-404b-96e2-23988cdcffa8"
      },
      "source": [
        "np.isnan(scaled_close).any()"
      ],
      "execution_count": 13,
      "outputs": [
        {
          "output_type": "execute_result",
          "data": {
            "text/plain": [
              "False"
            ]
          },
          "metadata": {
            "tags": []
          },
          "execution_count": 13
        }
      ]
    },
    {
      "cell_type": "markdown",
      "metadata": {
        "id": "CQgrA2va4Jzx"
      },
      "source": [
        "# Preprocessing"
      ]
    },
    {
      "cell_type": "code",
      "metadata": {
        "id": "NS5O4-Vtq-N1"
      },
      "source": [
        "SEQ_LEN = 100\n",
        "\n",
        "def to_sequences(data, seq_len):\n",
        "    d = []\n",
        "\n",
        "    for index in range(len(data) - seq_len):\n",
        "        d.append(data[index: index + seq_len])\n",
        "\n",
        "    return np.array(d)\n",
        "\n",
        "def preprocess(data_raw, seq_len, train_split):\n",
        "\n",
        "    data = to_sequences(data_raw, seq_len)\n",
        "\n",
        "    num_train = int(train_split * data.shape[0])\n",
        "\n",
        "    X_train = data[:num_train, :-1, :]\n",
        "    y_train = data[:num_train, -1, :]\n",
        "\n",
        "    X_test = data[num_train:, :-1, :]\n",
        "    y_test = data[num_train:, -1, :]\n",
        "\n",
        "    return X_train, y_train, X_test, y_test\n",
        "\n",
        "\n",
        "X_train, y_train, X_test, y_test = preprocess(scaled_close, SEQ_LEN, train_split = 0.95)"
      ],
      "execution_count": 14,
      "outputs": []
    },
    {
      "cell_type": "code",
      "metadata": {
        "id": "XNBTUeaXreni",
        "colab": {
          "base_uri": "https://localhost:8080/"
        },
        "outputId": "9ae69c23-b874-486a-9ba1-d33f0a48df37"
      },
      "source": [
        "X_train.shape"
      ],
      "execution_count": 15,
      "outputs": [
        {
          "output_type": "execute_result",
          "data": {
            "text/plain": [
              "(2945, 99, 1)"
            ]
          },
          "metadata": {
            "tags": []
          },
          "execution_count": 15
        }
      ]
    },
    {
      "cell_type": "code",
      "metadata": {
        "id": "4IOoiN3pUUgO",
        "colab": {
          "base_uri": "https://localhost:8080/"
        },
        "outputId": "f86892d9-39f0-4149-8ea4-b5a53031161a"
      },
      "source": [
        "X_test.shape"
      ],
      "execution_count": 16,
      "outputs": [
        {
          "output_type": "execute_result",
          "data": {
            "text/plain": [
              "(156, 99, 1)"
            ]
          },
          "metadata": {
            "tags": []
          },
          "execution_count": 16
        }
      ]
    },
    {
      "cell_type": "markdown",
      "metadata": {
        "id": "Yhhv26c34YTW"
      },
      "source": [
        "# Model"
      ]
    },
    {
      "cell_type": "code",
      "metadata": {
        "id": "a3dw5qTasJoy"
      },
      "source": [
        "DROPOUT = 0.2\n",
        "WINDOW_SIZE = SEQ_LEN - 1\n",
        "\n",
        "model = keras.Sequential()\n",
        "\n",
        "model.add(Bidirectional(CuDNNLSTM(WINDOW_SIZE, return_sequences=True),\n",
        "                        input_shape=(WINDOW_SIZE, X_train.shape[-1])))\n",
        "model.add(Dropout(rate=DROPOUT))\n",
        "\n",
        "model.add(Bidirectional(CuDNNLSTM((WINDOW_SIZE * 2), return_sequences=True)))\n",
        "model.add(Dropout(rate=DROPOUT))\n",
        "\n",
        "model.add(Bidirectional(CuDNNLSTM(WINDOW_SIZE, return_sequences=False)))\n",
        "\n",
        "model.add(Dense(units=1))\n",
        "\n",
        "model.add(Activation('linear'))"
      ],
      "execution_count": 18,
      "outputs": []
    },
    {
      "cell_type": "markdown",
      "metadata": {
        "id": "pjBan-K27L8d"
      },
      "source": [
        "# Training"
      ]
    },
    {
      "cell_type": "code",
      "metadata": {
        "id": "zvc-LMgOHkWJ"
      },
      "source": [
        "model.compile(\n",
        "    loss='mean_squared_error', \n",
        "    optimizer='adam'\n",
        ")"
      ],
      "execution_count": 19,
      "outputs": []
    },
    {
      "cell_type": "code",
      "metadata": {
        "id": "m1aU2xDvsvrN",
        "colab": {
          "base_uri": "https://localhost:8080/"
        },
        "outputId": "3ae9493c-40b2-43d8-85f0-8ebaf9b2ba03"
      },
      "source": [
        "BATCH_SIZE = 64\n",
        "\n",
        "history = model.fit(\n",
        "    X_train, \n",
        "    y_train, \n",
        "    epochs=50, \n",
        "    batch_size=BATCH_SIZE, \n",
        "    shuffle=False,\n",
        "    validation_split=0.1\n",
        ")"
      ],
      "execution_count": 20,
      "outputs": [
        {
          "output_type": "stream",
          "text": [
            "Epoch 1/50\n",
            "42/42 [==============================] - 37s 69ms/step - loss: 6.3262e-04 - val_loss: 0.0356\n",
            "Epoch 2/50\n",
            "42/42 [==============================] - 2s 44ms/step - loss: 0.0250 - val_loss: 0.0241\n",
            "Epoch 3/50\n",
            "42/42 [==============================] - 2s 44ms/step - loss: 0.0178 - val_loss: 0.0016\n",
            "Epoch 4/50\n",
            "42/42 [==============================] - 2s 44ms/step - loss: 0.0061 - val_loss: 0.0680\n",
            "Epoch 5/50\n",
            "42/42 [==============================] - 2s 44ms/step - loss: 0.0042 - val_loss: 0.0162\n",
            "Epoch 6/50\n",
            "42/42 [==============================] - 2s 44ms/step - loss: 0.0325 - val_loss: 0.0236\n",
            "Epoch 7/50\n",
            "42/42 [==============================] - 2s 44ms/step - loss: 0.0231 - val_loss: 0.0363\n",
            "Epoch 8/50\n",
            "42/42 [==============================] - 2s 44ms/step - loss: 0.0039 - val_loss: 0.0041\n",
            "Epoch 9/50\n",
            "42/42 [==============================] - 2s 44ms/step - loss: 9.6827e-04 - val_loss: 0.0722\n",
            "Epoch 10/50\n",
            "42/42 [==============================] - 2s 44ms/step - loss: 0.0100 - val_loss: 0.0520\n",
            "Epoch 11/50\n",
            "42/42 [==============================] - 2s 44ms/step - loss: 0.0062 - val_loss: 0.0116\n",
            "Epoch 12/50\n",
            "42/42 [==============================] - 2s 44ms/step - loss: 0.0045 - val_loss: 0.0389\n",
            "Epoch 13/50\n",
            "42/42 [==============================] - 2s 44ms/step - loss: 0.0019 - val_loss: 0.0527\n",
            "Epoch 14/50\n",
            "42/42 [==============================] - 2s 44ms/step - loss: 0.0235 - val_loss: 0.0702\n",
            "Epoch 15/50\n",
            "42/42 [==============================] - 2s 44ms/step - loss: 0.0124 - val_loss: 0.0684\n",
            "Epoch 16/50\n",
            "42/42 [==============================] - 2s 44ms/step - loss: 0.0096 - val_loss: 0.0557\n",
            "Epoch 17/50\n",
            "42/42 [==============================] - 2s 45ms/step - loss: 0.0082 - val_loss: 0.0158\n",
            "Epoch 18/50\n",
            "42/42 [==============================] - 2s 44ms/step - loss: 0.0048 - val_loss: 0.0039\n",
            "Epoch 19/50\n",
            "42/42 [==============================] - 2s 45ms/step - loss: 0.0014 - val_loss: 0.0712\n",
            "Epoch 20/50\n",
            "42/42 [==============================] - 2s 44ms/step - loss: 0.0053 - val_loss: 0.0025\n",
            "Epoch 21/50\n",
            "42/42 [==============================] - 2s 45ms/step - loss: 3.5305e-04 - val_loss: 0.0069\n",
            "Epoch 22/50\n",
            "42/42 [==============================] - 2s 45ms/step - loss: 2.9408e-04 - val_loss: 0.0091\n",
            "Epoch 23/50\n",
            "42/42 [==============================] - 2s 44ms/step - loss: 0.0045 - val_loss: 0.0195\n",
            "Epoch 24/50\n",
            "42/42 [==============================] - 2s 45ms/step - loss: 5.1704e-04 - val_loss: 0.0020\n",
            "Epoch 25/50\n",
            "42/42 [==============================] - 2s 45ms/step - loss: 0.0029 - val_loss: 0.0153\n",
            "Epoch 26/50\n",
            "42/42 [==============================] - 2s 45ms/step - loss: 2.8400e-04 - val_loss: 0.0032\n",
            "Epoch 27/50\n",
            "42/42 [==============================] - 2s 44ms/step - loss: 0.0027 - val_loss: 0.0110\n",
            "Epoch 28/50\n",
            "42/42 [==============================] - 2s 44ms/step - loss: 2.6872e-04 - val_loss: 0.0130\n",
            "Epoch 29/50\n",
            "42/42 [==============================] - 2s 45ms/step - loss: 0.0029 - val_loss: 0.0106\n",
            "Epoch 30/50\n",
            "42/42 [==============================] - 2s 45ms/step - loss: 2.3474e-04 - val_loss: 0.0074\n",
            "Epoch 31/50\n",
            "42/42 [==============================] - 2s 45ms/step - loss: 0.0025 - val_loss: 0.0098\n",
            "Epoch 32/50\n",
            "42/42 [==============================] - 2s 44ms/step - loss: 2.0989e-04 - val_loss: 0.0035\n",
            "Epoch 33/50\n",
            "42/42 [==============================] - 2s 45ms/step - loss: 0.0021 - val_loss: 0.0083\n",
            "Epoch 34/50\n",
            "42/42 [==============================] - 2s 45ms/step - loss: 2.1874e-04 - val_loss: 0.0040\n",
            "Epoch 35/50\n",
            "42/42 [==============================] - 2s 44ms/step - loss: 0.0020 - val_loss: 0.0077\n",
            "Epoch 36/50\n",
            "42/42 [==============================] - 2s 45ms/step - loss: 1.9625e-04 - val_loss: 0.0039\n",
            "Epoch 37/50\n",
            "42/42 [==============================] - 2s 45ms/step - loss: 0.0019 - val_loss: 0.0067\n",
            "Epoch 38/50\n",
            "42/42 [==============================] - 2s 45ms/step - loss: 1.9148e-04 - val_loss: 0.0052\n",
            "Epoch 39/50\n",
            "42/42 [==============================] - 2s 45ms/step - loss: 0.0019 - val_loss: 0.0061\n",
            "Epoch 40/50\n",
            "42/42 [==============================] - 2s 45ms/step - loss: 1.7737e-04 - val_loss: 0.0062\n",
            "Epoch 41/50\n",
            "42/42 [==============================] - 2s 45ms/step - loss: 0.0019 - val_loss: 0.0055\n",
            "Epoch 42/50\n",
            "42/42 [==============================] - 2s 45ms/step - loss: 1.8125e-04 - val_loss: 0.0081\n",
            "Epoch 43/50\n",
            "42/42 [==============================] - 2s 45ms/step - loss: 0.0018 - val_loss: 0.0050\n",
            "Epoch 44/50\n",
            "42/42 [==============================] - 2s 45ms/step - loss: 1.8046e-04 - val_loss: 0.0103\n",
            "Epoch 45/50\n",
            "42/42 [==============================] - 2s 46ms/step - loss: 0.0018 - val_loss: 0.0049\n",
            "Epoch 46/50\n",
            "42/42 [==============================] - 2s 45ms/step - loss: 1.6862e-04 - val_loss: 0.0090\n",
            "Epoch 47/50\n",
            "42/42 [==============================] - 2s 45ms/step - loss: 0.0016 - val_loss: 0.0048\n",
            "Epoch 48/50\n",
            "42/42 [==============================] - 2s 45ms/step - loss: 1.6667e-04 - val_loss: 0.0087\n",
            "Epoch 49/50\n",
            "42/42 [==============================] - 2s 45ms/step - loss: 0.0014 - val_loss: 0.0046\n",
            "Epoch 50/50\n",
            "42/42 [==============================] - 2s 45ms/step - loss: 1.7461e-04 - val_loss: 0.0103\n"
          ],
          "name": "stdout"
        }
      ]
    },
    {
      "cell_type": "code",
      "metadata": {
        "id": "L9JumIeP40xv",
        "colab": {
          "base_uri": "https://localhost:8080/"
        },
        "outputId": "a9a5eea4-856d-450c-fcf2-305adab4d640"
      },
      "source": [
        "model.evaluate(X_test, y_test)"
      ],
      "execution_count": 21,
      "outputs": [
        {
          "output_type": "stream",
          "text": [
            "5/5 [==============================] - 0s 44ms/step - loss: 0.0036\n"
          ],
          "name": "stdout"
        },
        {
          "output_type": "execute_result",
          "data": {
            "text/plain": [
              "0.003587185638025403"
            ]
          },
          "metadata": {
            "tags": []
          },
          "execution_count": 21
        }
      ]
    },
    {
      "cell_type": "code",
      "metadata": {
        "id": "2_9ibR1e5DnQ",
        "colab": {
          "base_uri": "https://localhost:8080/",
          "height": 318
        },
        "outputId": "9a349064-d9c5-419f-e3ea-4c15ffe86b81"
      },
      "source": [
        "plt.plot(history.history['loss'])\n",
        "plt.plot(history.history['val_loss'])\n",
        "plt.title('model loss')\n",
        "plt.ylabel('loss')\n",
        "plt.xlabel('epoch')\n",
        "plt.legend(['train', 'test'], loc='upper left')\n",
        "plt.show()"
      ],
      "execution_count": 22,
      "outputs": [
        {
          "output_type": "display_data",
          "data": {
            "image/png": "[encoded data removed]",
            "text/plain": [
              "<Figure size 432x288 with 1 Axes>"
            ]
          },
          "metadata": {
            "tags": [],
            "needs_background": "light"
          }
        }
      ]
    },
    {
      "cell_type": "markdown",
      "metadata": {
        "id": "Xf9STH2D4_hP"
      },
      "source": [
        "# Prediction"
      ]
    },
    {
      "cell_type": "code",
      "metadata": {
        "id": "Lui1XTi0xVsF",
        "colab": {
          "base_uri": "https://localhost:8080/",
          "height": 318
        },
        "outputId": "f5668ccf-ba2f-48c2-b442-55d48638ba5a"
      },
      "source": [
        "y_hat = model.predict(X_test)\n",
        "\n",
        "y_test_inverse = scaler.inverse_transform(y_test)\n",
        "y_hat_inverse = scaler.inverse_transform(y_hat)\n",
        " \n",
        "plt.plot(y_test_inverse, label=\"Actual Price\", color='green')\n",
        "plt.plot(y_hat_inverse, label=\"Predicted Price\", color='red')\n",
        " \n",
        "plt.title('Bitcoin price prediction')\n",
        "plt.xlabel('Time [days]')\n",
        "plt.ylabel('Price')\n",
        "plt.legend(loc='best')\n",
        " \n",
        "plt.show();"
      ],
      "execution_count": 23,
      "outputs": [
        {
          "output_type": "display_data",
          "data": {
            "image/png": "[encoded data removed]",
            "text/plain": [
              "<Figure size 432x288 with 1 Axes>"
            ]
          },
          "metadata": {
            "tags": [],
            "needs_background": "light"
          }
        }
      ]
    },
    {
      "cell_type": "code",
      "metadata": {
        "id": "ak-CiQAVz4Fw"
      },
      "source": [
        ""
      ],
      "execution_count": null,
      "outputs": []
    }
  ]
}